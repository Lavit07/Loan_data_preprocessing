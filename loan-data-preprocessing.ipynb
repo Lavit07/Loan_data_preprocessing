{
 "cells": [
  {
   "cell_type": "code",
   "execution_count": 1,
   "id": "c527793b-b1b6-4dda-88c4-9961f0b1c5ea",
   "metadata": {},
   "outputs": [],
   "source": [
    "import numpy as np\n",
    "import pandas as pd\n"
   ]
  },
  {
   "cell_type": "code",
   "execution_count": 2,
   "id": "608b7f19-1952-495f-bd22-6879cd4856d0",
   "metadata": {},
   "outputs": [],
   "source": [
    "np.set_printoptions(suppress = True, linewidth = 100 ,precision = 2)\n",
    " #this is to display the output completely and stopping scientific display"
   ]
  },
  {
   "cell_type": "code",
   "execution_count": 3,
   "id": "79c569d9-de45-4ae9-9aa2-5a35688fdd52",
   "metadata": {},
   "outputs": [
    {
     "data": {
      "text/plain": [
       "array([[48010226.  ,         nan,    35000.  , ...,         nan,         nan,     9452.96],\n",
       "       [57693261.  ,         nan,    30000.  , ...,         nan,         nan,     4679.7 ],\n",
       "       [59432726.  ,         nan,    15000.  , ...,         nan,         nan,     1969.83],\n",
       "       ...,\n",
       "       [50415990.  ,         nan,    10000.  , ...,         nan,         nan,     2185.64],\n",
       "       [46154151.  ,         nan,         nan, ...,         nan,         nan,     3199.4 ],\n",
       "       [66055249.  ,         nan,    10000.  , ...,         nan,         nan,      301.9 ]],\n",
       "      shape=(10000, 14))"
      ]
     },
     "execution_count": 3,
     "metadata": {},
     "output_type": "execute_result"
    }
   ],
   "source": [
    "raw_data_np = np.genfromtxt('loan-data.csv', delimiter = \";\", skip_header = 1, autostrip = True, encoding=\"ISO-8859-1\")\n",
    "raw_data_np"
   ]
  },
  {
   "cell_type": "code",
   "execution_count": 4,
   "id": "007908ec-cfd2-4a6f-a667-7f396e5c9eac",
   "metadata": {},
   "outputs": [
    {
     "data": {
      "text/plain": [
       "np.int64(88005)"
      ]
     },
     "execution_count": 4,
     "metadata": {},
     "output_type": "execute_result"
    }
   ],
   "source": [
    "np.isnan(raw_data_np).sum()"
   ]
  },
  {
   "cell_type": "code",
   "execution_count": 5,
   "id": "3f9eafe9-b410-4508-9a67-ce154f8b4eb8",
   "metadata": {},
   "outputs": [
    {
     "name": "stderr",
     "output_type": "stream",
     "text": [
      "C:\\Users\\lavit\\AppData\\Local\\Temp\\ipykernel_17048\\2174520810.py:2: RuntimeWarning: Mean of empty slice\n",
      "  temp_mean = np.nanmean(raw_data_np, axis = 0)\n"
     ]
    }
   ],
   "source": [
    "temp_fill = np.nanmax(raw_data_np).round(2) + 1\n",
    "temp_mean = np.nanmean(raw_data_np, axis = 0)\n",
    "#axis = 0 means column wise for all rows"
   ]
  },
  {
   "cell_type": "code",
   "execution_count": 6,
   "id": "aa6bfa5c-4377-4f67-82a2-2b1e262851a8",
   "metadata": {},
   "outputs": [
    {
     "data": {
      "text/plain": [
       "array([54015809.19,         nan,    15273.46,         nan,    15311.04,         nan,       16.62,\n",
       "            440.92,         nan,         nan,         nan,         nan,         nan,     3143.85])"
      ]
     },
     "execution_count": 6,
     "metadata": {},
     "output_type": "execute_result"
    }
   ],
   "source": [
    "temp_mean"
   ]
  },
  {
   "cell_type": "code",
   "execution_count": 7,
   "id": "66d7ff33-e5da-49ea-a330-a719616cac8e",
   "metadata": {},
   "outputs": [
    {
     "name": "stderr",
     "output_type": "stream",
     "text": [
      "C:\\Users\\lavit\\AppData\\Local\\Temp\\ipykernel_17048\\387489847.py:1: RuntimeWarning: All-NaN slice encountered\n",
      "  temp_stats = np.array([np.nanmin(raw_data_np, axis = 0),\n",
      "C:\\Users\\lavit\\AppData\\Local\\Temp\\ipykernel_17048\\387489847.py:3: RuntimeWarning: All-NaN slice encountered\n",
      "  np.nanmax(raw_data_np, axis = 0)])\n"
     ]
    }
   ],
   "source": [
    "temp_stats = np.array([np.nanmin(raw_data_np, axis = 0),\n",
    "                      temp_mean,\n",
    "                      np.nanmax(raw_data_np, axis = 0)])"
   ]
  },
  {
   "cell_type": "code",
   "execution_count": 8,
   "id": "b2070303-03be-4865-9936-e15b31c49162",
   "metadata": {},
   "outputs": [
    {
     "data": {
      "text/plain": [
       "array([[  373332.  ,         nan,     1000.  ,         nan,     1000.  ,         nan,        6.  ,\n",
       "              31.42,         nan,         nan,         nan,         nan,         nan,        0.  ],\n",
       "       [54015809.19,         nan,    15273.46,         nan,    15311.04,         nan,       16.62,\n",
       "             440.92,         nan,         nan,         nan,         nan,         nan,     3143.85],\n",
       "       [68616519.  ,         nan,    35000.  ,         nan,    35000.  ,         nan,       28.99,\n",
       "            1372.97,         nan,         nan,         nan,         nan,         nan,    41913.62]])"
      ]
     },
     "execution_count": 8,
     "metadata": {},
     "output_type": "execute_result"
    }
   ],
   "source": [
    "temp_stats"
   ]
  },
  {
   "cell_type": "code",
   "execution_count": 9,
   "id": "bbaf7f28-9051-4fb1-8e0e-c0e2c97908d4",
   "metadata": {},
   "outputs": [],
   "source": [
    "#splitting data into numeric and string\n",
    "\n"
   ]
  },
  {
   "cell_type": "code",
   "execution_count": 10,
   "id": "e4a7bbcf-8bcc-49f7-97c6-82d24ce3d039",
   "metadata": {},
   "outputs": [
    {
     "data": {
      "text/plain": [
       "array([ 1,  3,  5,  8,  9, 10, 11, 12])"
      ]
     },
     "execution_count": 10,
     "metadata": {},
     "output_type": "execute_result"
    }
   ],
   "source": [
    "column_strings = np.argwhere(np.isnan(temp_mean)).squeeze() #we added squeeze function to convert the array into 1-d.\n",
    "column_strings"
   ]
  },
  {
   "cell_type": "code",
   "execution_count": 11,
   "id": "98bfd324-58f7-4842-9a53-a7051edda5af",
   "metadata": {},
   "outputs": [
    {
     "data": {
      "text/plain": [
       "array([ 0,  2,  4,  6,  7, 13])"
      ]
     },
     "execution_count": 11,
     "metadata": {},
     "output_type": "execute_result"
    }
   ],
   "source": [
    "column_numeric = np.argwhere(np.isnan(temp_mean)== False).squeeze()\n",
    "column_numeric"
   ]
  },
  {
   "cell_type": "code",
   "execution_count": 12,
   "id": "63d4a5b6-f556-4ffd-9bd5-9ebd626432ef",
   "metadata": {},
   "outputs": [],
   "source": [
    "#reimporting the dataset"
   ]
  },
  {
   "cell_type": "code",
   "execution_count": 13,
   "id": "c8fef390-6e64-4b6f-b2ac-dec96099be52",
   "metadata": {},
   "outputs": [
    {
     "data": {
      "text/plain": [
       "array([['May-15', 'Current', '36 months', ..., 'Verified',\n",
       "        'https://www.lendingclub.com/browse/loanDetail.action?loan_id=48010226', 'CA'],\n",
       "       ['', 'Current', '36 months', ..., 'Source Verified',\n",
       "        'https://www.lendingclub.com/browse/loanDetail.action?loan_id=57693261', 'NY'],\n",
       "       ['Sep-15', 'Current', '36 months', ..., 'Verified',\n",
       "        'https://www.lendingclub.com/browse/loanDetail.action?loan_id=59432726', 'PA'],\n",
       "       ...,\n",
       "       ['Jun-15', 'Current', '36 months', ..., 'Source Verified',\n",
       "        'https://www.lendingclub.com/browse/loanDetail.action?loan_id=50415990', 'CA'],\n",
       "       ['Apr-15', 'Current', '36 months', ..., 'Source Verified',\n",
       "        'https://www.lendingclub.com/browse/loanDetail.action?loan_id=46154151', 'OH'],\n",
       "       ['Dec-15', 'Current', '36 months', ..., '',\n",
       "        'https://www.lendingclub.com/browse/loanDetail.action?loan_id=66055249', 'IL']],\n",
       "      shape=(10000, 8), dtype='<U69')"
      ]
     },
     "execution_count": 13,
     "metadata": {},
     "output_type": "execute_result"
    }
   ],
   "source": [
    "loan_data_str = np.genfromtxt(\"loan-data.csv\",\n",
    "                             delimiter = \";\",\n",
    "                             skip_header = 1,\n",
    "                             autostrip= True, usecols = column_strings,\n",
    "                             dtype = str,\n",
    "                             encoding=\"ISO-8859-1\")\n",
    "loan_data_str"
   ]
  },
  {
   "cell_type": "code",
   "execution_count": 14,
   "id": "3e2c9c2d-5599-4b99-8761-08af8057fc8b",
   "metadata": {},
   "outputs": [
    {
     "data": {
      "text/plain": [
       "array([[48010226.  ,    35000.  ,    35000.  ,       13.33,     1184.86,     9452.96],\n",
       "       [57693261.  ,    30000.  ,    30000.  , 68616520.  ,      938.57,     4679.7 ],\n",
       "       [59432726.  ,    15000.  ,    15000.  , 68616520.  ,      494.86,     1969.83],\n",
       "       ...,\n",
       "       [50415990.  ,    10000.  ,    10000.  , 68616520.  , 68616520.  ,     2185.64],\n",
       "       [46154151.  , 68616520.  ,    10000.  ,       16.55,      354.3 ,     3199.4 ],\n",
       "       [66055249.  ,    10000.  ,    10000.  , 68616520.  ,      309.97,      301.9 ]],\n",
       "      shape=(10000, 6))"
      ]
     },
     "execution_count": 14,
     "metadata": {},
     "output_type": "execute_result"
    }
   ],
   "source": [
    "loan_data_numeric = np.genfromtxt(\"loan-data.csv\",\n",
    "                             delimiter = \";\",\n",
    "                             skip_header = 1,\n",
    "                             autostrip= True, usecols = column_numeric,\n",
    "                             filling_values = temp_fill,\n",
    "                             encoding=\"ISO-8859-1\")\n",
    "loan_data_numeric"
   ]
  },
  {
   "cell_type": "code",
   "execution_count": 15,
   "id": "07090248-d5a3-4457-8812-da331fe71452",
   "metadata": {},
   "outputs": [
    {
     "data": {
      "text/plain": [
       "array(['id', 'issue_d', 'loan_amnt', 'loan_status', 'funded_amnt', 'term', 'int_rate',\n",
       "       'installment', 'grade', 'sub_grade', 'verification_status', 'url', 'addr_state',\n",
       "       'total_pymnt'], dtype='<U19')"
      ]
     },
     "execution_count": 15,
     "metadata": {},
     "output_type": "execute_result"
    }
   ],
   "source": [
    "header_full = np.genfromtxt(\"loan-data.csv\",\n",
    "                             delimiter = \";\",\n",
    "                             skip_footer = raw_data_np.shape[0],#becoz when we imported raw data we skip the header meaning it will ignore all the rows except the header\n",
    "                             autostrip= True,\n",
    "                             dtype = str,\n",
    "                             encoding=\"ISO-8859-1\")\n",
    "header_full"
   ]
  },
  {
   "cell_type": "code",
   "execution_count": 16,
   "id": "735533ff-de27-49c4-ad89-05a9dd25d15d",
   "metadata": {},
   "outputs": [],
   "source": [
    "header_str, header_numeric = header_full[column_strings], header_full[column_numeric]"
   ]
  },
  {
   "cell_type": "code",
   "execution_count": 17,
   "id": "8546b575-fb19-4179-ba29-f0c5ea657acb",
   "metadata": {},
   "outputs": [
    {
     "data": {
      "text/plain": [
       "array(['issue_d', 'loan_status', 'term', 'grade', 'sub_grade', 'verification_status', 'url',\n",
       "       'addr_state'], dtype='<U19')"
      ]
     },
     "execution_count": 17,
     "metadata": {},
     "output_type": "execute_result"
    }
   ],
   "source": [
    "header_str"
   ]
  },
  {
   "cell_type": "code",
   "execution_count": 18,
   "id": "eb5af1d6-44b1-427a-9426-fc520f29e4d2",
   "metadata": {},
   "outputs": [
    {
     "data": {
      "text/plain": [
       "array(['id', 'loan_amnt', 'funded_amnt', 'int_rate', 'installment', 'total_pymnt'], dtype='<U19')"
      ]
     },
     "execution_count": 18,
     "metadata": {},
     "output_type": "execute_result"
    }
   ],
   "source": [
    "header_numeric"
   ]
  },
  {
   "cell_type": "code",
   "execution_count": 19,
   "id": "9d716f53-916e-4f47-b7f4-8ff5ffbee597",
   "metadata": {},
   "outputs": [],
   "source": [
    "#now data setup is complete\n",
    "#now preprocess will starts\n"
   ]
  },
  {
   "cell_type": "code",
   "execution_count": 20,
   "id": "23907954-0914-42f9-b0b6-c115d536372e",
   "metadata": {},
   "outputs": [],
   "source": [
    "#creating checkpoints\n",
    "def checkpoint(file_name, checkpoint_header, checkpoint_data):\n",
    "    np.savez(file_name, header = checkpoint_header, data = checkpoint_data)\n",
    "    checkpoint_variable = np.load(file_name + \".npz\")\n",
    "    return(checkpoint_variable)"
   ]
  },
  {
   "cell_type": "code",
   "execution_count": 21,
   "id": "808c0dd5-4628-4487-914e-2e363a6125b2",
   "metadata": {},
   "outputs": [],
   "source": [
    "checkpoint_test = checkpoint(\"checkpoint-test\", header_str, loan_data_str)"
   ]
  },
  {
   "cell_type": "code",
   "execution_count": 22,
   "id": "68300d36-5c77-4fd5-8ef2-0830384fbcd1",
   "metadata": {},
   "outputs": [
    {
     "data": {
      "text/plain": [
       "array([['May-15', 'Current', '36 months', ..., 'Verified',\n",
       "        'https://www.lendingclub.com/browse/loanDetail.action?loan_id=48010226', 'CA'],\n",
       "       ['', 'Current', '36 months', ..., 'Source Verified',\n",
       "        'https://www.lendingclub.com/browse/loanDetail.action?loan_id=57693261', 'NY'],\n",
       "       ['Sep-15', 'Current', '36 months', ..., 'Verified',\n",
       "        'https://www.lendingclub.com/browse/loanDetail.action?loan_id=59432726', 'PA'],\n",
       "       ...,\n",
       "       ['Jun-15', 'Current', '36 months', ..., 'Source Verified',\n",
       "        'https://www.lendingclub.com/browse/loanDetail.action?loan_id=50415990', 'CA'],\n",
       "       ['Apr-15', 'Current', '36 months', ..., 'Source Verified',\n",
       "        'https://www.lendingclub.com/browse/loanDetail.action?loan_id=46154151', 'OH'],\n",
       "       ['Dec-15', 'Current', '36 months', ..., '',\n",
       "        'https://www.lendingclub.com/browse/loanDetail.action?loan_id=66055249', 'IL']],\n",
       "      shape=(10000, 8), dtype='<U69')"
      ]
     },
     "execution_count": 22,
     "metadata": {},
     "output_type": "execute_result"
    }
   ],
   "source": [
    "checkpoint_test['data']"
   ]
  },
  {
   "cell_type": "code",
   "execution_count": 23,
   "id": "596e8993-4a80-4297-8937-391d93a0b431",
   "metadata": {},
   "outputs": [
    {
     "data": {
      "text/plain": [
       "True"
      ]
     },
     "execution_count": 23,
     "metadata": {},
     "output_type": "execute_result"
    }
   ],
   "source": [
    "np.array_equal(checkpoint_test['data'], loan_data_str)"
   ]
  },
  {
   "cell_type": "code",
   "execution_count": 24,
   "id": "4311fae6-71e1-44bf-8843-7b2bdd3f7556",
   "metadata": {},
   "outputs": [],
   "source": [
    "#manipulating the strings column of dataset"
   ]
  },
  {
   "cell_type": "code",
   "execution_count": 25,
   "id": "2b5aebe8-419b-4990-9e8a-8cc1686b5929",
   "metadata": {},
   "outputs": [
    {
     "data": {
      "text/plain": [
       "array(['issue_d', 'loan_status', 'term', 'grade', 'sub_grade', 'verification_status', 'url',\n",
       "       'addr_state'], dtype='<U19')"
      ]
     },
     "execution_count": 25,
     "metadata": {},
     "output_type": "execute_result"
    }
   ],
   "source": [
    "header_str"
   ]
  },
  {
   "cell_type": "code",
   "execution_count": 26,
   "id": "fa946191-dee7-4806-99a8-7d39cfdefb09",
   "metadata": {},
   "outputs": [],
   "source": [
    "header_str[0] = 'issue_date'"
   ]
  },
  {
   "cell_type": "code",
   "execution_count": 27,
   "id": "3d3f1b10-4328-411b-bb38-06a73fc2a461",
   "metadata": {},
   "outputs": [
    {
     "data": {
      "text/plain": [
       "array([['May-15', 'Current', '36 months', ..., 'Verified',\n",
       "        'https://www.lendingclub.com/browse/loanDetail.action?loan_id=48010226', 'CA'],\n",
       "       ['', 'Current', '36 months', ..., 'Source Verified',\n",
       "        'https://www.lendingclub.com/browse/loanDetail.action?loan_id=57693261', 'NY'],\n",
       "       ['Sep-15', 'Current', '36 months', ..., 'Verified',\n",
       "        'https://www.lendingclub.com/browse/loanDetail.action?loan_id=59432726', 'PA'],\n",
       "       ...,\n",
       "       ['Jun-15', 'Current', '36 months', ..., 'Source Verified',\n",
       "        'https://www.lendingclub.com/browse/loanDetail.action?loan_id=50415990', 'CA'],\n",
       "       ['Apr-15', 'Current', '36 months', ..., 'Source Verified',\n",
       "        'https://www.lendingclub.com/browse/loanDetail.action?loan_id=46154151', 'OH'],\n",
       "       ['Dec-15', 'Current', '36 months', ..., '',\n",
       "        'https://www.lendingclub.com/browse/loanDetail.action?loan_id=66055249', 'IL']],\n",
       "      shape=(10000, 8), dtype='<U69')"
      ]
     },
     "execution_count": 27,
     "metadata": {},
     "output_type": "execute_result"
    }
   ],
   "source": [
    "loan_data_str"
   ]
  },
  {
   "cell_type": "code",
   "execution_count": 28,
   "id": "4061f509-70fc-4bb1-aaaa-bc78251e9eba",
   "metadata": {},
   "outputs": [
    {
     "data": {
      "text/plain": [
       "array(['', 'Apr-15', 'Aug-15', 'Dec-15', 'Feb-15', 'Jan-15', 'Jul-15', 'Jun-15', 'Mar-15',\n",
       "       'May-15', 'Nov-15', 'Oct-15', 'Sep-15'], dtype='<U69')"
      ]
     },
     "execution_count": 28,
     "metadata": {},
     "output_type": "execute_result"
    }
   ],
   "source": [
    "np.unique(loan_data_str[:,0])"
   ]
  },
  {
   "cell_type": "code",
   "execution_count": 29,
   "id": "232e34c5-6876-463e-ab9b-490f936fdaf9",
   "metadata": {},
   "outputs": [],
   "source": [
    "loan_data_str[:,0]= np.char.chararray.strip(loan_data_str[:,0],'-15')"
   ]
  },
  {
   "cell_type": "code",
   "execution_count": 30,
   "id": "62822115-10bc-4c11-b3c1-dcc83dc3c259",
   "metadata": {},
   "outputs": [
    {
     "data": {
      "text/plain": [
       "array([['May', 'Current', '36 months', ..., 'Verified',\n",
       "        'https://www.lendingclub.com/browse/loanDetail.action?loan_id=48010226', 'CA'],\n",
       "       ['', 'Current', '36 months', ..., 'Source Verified',\n",
       "        'https://www.lendingclub.com/browse/loanDetail.action?loan_id=57693261', 'NY'],\n",
       "       ['Sep', 'Current', '36 months', ..., 'Verified',\n",
       "        'https://www.lendingclub.com/browse/loanDetail.action?loan_id=59432726', 'PA'],\n",
       "       ...,\n",
       "       ['Jun', 'Current', '36 months', ..., 'Source Verified',\n",
       "        'https://www.lendingclub.com/browse/loanDetail.action?loan_id=50415990', 'CA'],\n",
       "       ['Apr', 'Current', '36 months', ..., 'Source Verified',\n",
       "        'https://www.lendingclub.com/browse/loanDetail.action?loan_id=46154151', 'OH'],\n",
       "       ['Dec', 'Current', '36 months', ..., '',\n",
       "        'https://www.lendingclub.com/browse/loanDetail.action?loan_id=66055249', 'IL']],\n",
       "      shape=(10000, 8), dtype='<U69')"
      ]
     },
     "execution_count": 30,
     "metadata": {},
     "output_type": "execute_result"
    }
   ],
   "source": [
    "loan_data_str"
   ]
  },
  {
   "cell_type": "code",
   "execution_count": 31,
   "id": "01418e9e-3c8e-4c6b-9406-4c406fd3af3e",
   "metadata": {},
   "outputs": [
    {
     "data": {
      "text/plain": [
       "array(['', 'Apr', 'Aug', 'Dec', 'Feb', 'Jan', 'Jul', 'Jun', 'Mar', 'May', 'Nov', 'Oct', 'Sep'],\n",
       "      dtype='<U69')"
      ]
     },
     "execution_count": 31,
     "metadata": {},
     "output_type": "execute_result"
    }
   ],
   "source": [
    "np.unique(loan_data_str[:,0])"
   ]
  },
  {
   "cell_type": "code",
   "execution_count": 32,
   "id": "4c9639ef-b306-4de4-bae6-b3d5b582449d",
   "metadata": {},
   "outputs": [],
   "source": [
    "months = np.array([\"\",\"Jan\",\"Feb\",\"Mar\",\"Apr\",\"May\",\"Jun\",\"Jul\",\"Aug\",\"Sep\",\"Oct\",\"Nov\",\"Dec\"])"
   ]
  },
  {
   "cell_type": "code",
   "execution_count": 33,
   "id": "413272bf-5a5f-4b88-af5c-60c95195b550",
   "metadata": {},
   "outputs": [],
   "source": [
    "for i in range(13):\n",
    "    loan_data_str[:,0] = np.where(loan_data_str[:,0] == months[i],\n",
    "                                 str(i),\n",
    "                                  loan_data_str[:,0])"
   ]
  },
  {
   "cell_type": "code",
   "execution_count": 34,
   "id": "f86b506b-ef3a-4629-9d8e-c4d5d60f99b4",
   "metadata": {},
   "outputs": [
    {
     "data": {
      "text/plain": [
       "array(['5', '0', '9', ..., '6', '4', '12'], shape=(10000,), dtype='<U69')"
      ]
     },
     "execution_count": 34,
     "metadata": {},
     "output_type": "execute_result"
    }
   ],
   "source": [
    "loan_data_str[:,0]"
   ]
  },
  {
   "cell_type": "code",
   "execution_count": 35,
   "id": "f3e73e7f-e62b-4372-a160-64c89572b1b0",
   "metadata": {},
   "outputs": [
    {
     "data": {
      "text/plain": [
       "array(['0', '1', '10', '11', '12', '2', '3', '4', '5', '6', '7', '8', '9'], dtype='<U69')"
      ]
     },
     "execution_count": 35,
     "metadata": {},
     "output_type": "execute_result"
    }
   ],
   "source": [
    "np.unique(loan_data_str[:,0])"
   ]
  },
  {
   "cell_type": "code",
   "execution_count": 36,
   "id": "19ffcc29-8877-4eed-84a8-92bcba2f059d",
   "metadata": {},
   "outputs": [
    {
     "data": {
      "text/plain": [
       "array(['issue_date', 'loan_status', 'term', 'grade', 'sub_grade', 'verification_status', 'url',\n",
       "       'addr_state'], dtype='<U19')"
      ]
     },
     "execution_count": 36,
     "metadata": {},
     "output_type": "execute_result"
    }
   ],
   "source": [
    "header_str"
   ]
  },
  {
   "cell_type": "code",
   "execution_count": 37,
   "id": "76c7fd97-9f69-42f8-a0f6-e5fb01a6ccc6",
   "metadata": {},
   "outputs": [
    {
     "data": {
      "text/plain": [
       "array(['', 'Charged Off', 'Current', 'Default', 'Fully Paid', 'In Grace Period', 'Issued',\n",
       "       'Late (16-30 days)', 'Late (31-120 days)'], dtype='<U69')"
      ]
     },
     "execution_count": 37,
     "metadata": {},
     "output_type": "execute_result"
    }
   ],
   "source": [
    "np.unique(loan_data_str[:,1])"
   ]
  },
  {
   "cell_type": "code",
   "execution_count": 38,
   "id": "794cfb5c-acbd-4b7d-9077-aa91e2903a60",
   "metadata": {},
   "outputs": [],
   "source": [
    "#applying 1 for good and 0 for bad"
   ]
  },
  {
   "cell_type": "code",
   "execution_count": 39,
   "id": "001921dc-2757-4946-b0ac-2b128738b66b",
   "metadata": {},
   "outputs": [],
   "source": [
    "status_bad = ['','Charged Off','Default','Late(31-120 days)']"
   ]
  },
  {
   "cell_type": "code",
   "execution_count": 40,
   "id": "251955b8-5e2d-4481-9784-c65abc1a0667",
   "metadata": {},
   "outputs": [],
   "source": [
    "loan_data_str[:,1]= np.where(np.isin(loan_data_str[:,1],status_bad),0,1)"
   ]
  },
  {
   "cell_type": "code",
   "execution_count": 41,
   "id": "692157a6-fa6d-45a3-a6bb-15de438f8b36",
   "metadata": {},
   "outputs": [
    {
     "data": {
      "text/plain": [
       "array(['0', '1'], dtype='<U69')"
      ]
     },
     "execution_count": 41,
     "metadata": {},
     "output_type": "execute_result"
    }
   ],
   "source": [
    "np.unique(loan_data_str[:,1])"
   ]
  },
  {
   "cell_type": "code",
   "execution_count": 42,
   "id": "42f05e06-8c90-465e-ae29-9474548bfa32",
   "metadata": {},
   "outputs": [],
   "source": [
    "#cahnging term"
   ]
  },
  {
   "cell_type": "code",
   "execution_count": 43,
   "id": "5c5ca263-82ac-45a1-895a-fdd579c04b73",
   "metadata": {},
   "outputs": [
    {
     "data": {
      "text/plain": [
       "array(['', '36 months', '60 months'], dtype='<U69')"
      ]
     },
     "execution_count": 43,
     "metadata": {},
     "output_type": "execute_result"
    }
   ],
   "source": [
    "np.unique(loan_data_str[:,2])"
   ]
  },
  {
   "cell_type": "code",
   "execution_count": 44,
   "id": "13244eec-fc55-4523-8b7b-09ca56558d5b",
   "metadata": {},
   "outputs": [],
   "source": [
    "loan_data_str[:,2] = np.char.chararray.strip(loan_data_str[:,2],\" months\")"
   ]
  },
  {
   "cell_type": "code",
   "execution_count": 45,
   "id": "22a1e6d1-b99b-403d-aef5-026cf0e5d2f8",
   "metadata": {},
   "outputs": [
    {
     "data": {
      "text/plain": [
       "array(['', '36', '60'], dtype='<U69')"
      ]
     },
     "execution_count": 45,
     "metadata": {},
     "output_type": "execute_result"
    }
   ],
   "source": [
    "np.unique(loan_data_str[:,2])"
   ]
  },
  {
   "cell_type": "code",
   "execution_count": 46,
   "id": "8638bf2c-51d7-45f8-80c1-dba5dad9453b",
   "metadata": {},
   "outputs": [],
   "source": [
    "header_str[2] = \"term_months\""
   ]
  },
  {
   "cell_type": "code",
   "execution_count": 47,
   "id": "87b3fdbd-e54a-4f7e-a1a3-2b4401d3f9d1",
   "metadata": {},
   "outputs": [],
   "source": [
    "#we will substitue empty space with the 60 months because in credit rating modeling we assume the missing data as the worst possible outcome\n",
    "#here the 60 is the longest possible out of given data\n",
    "loan_data_str[:,2] = np.where(loan_data_str[:,2]== '',\n",
    "                              str(60),\n",
    "                              loan_data_str[:,2])"
   ]
  },
  {
   "cell_type": "code",
   "execution_count": 48,
   "id": "4044b477-70b3-4aa0-a748-7acee5cb0fb5",
   "metadata": {},
   "outputs": [
    {
     "data": {
      "text/plain": [
       "array(['36', '60'], dtype='<U69')"
      ]
     },
     "execution_count": 48,
     "metadata": {},
     "output_type": "execute_result"
    }
   ],
   "source": [
    "np.unique(loan_data_str[:,2])"
   ]
  },
  {
   "cell_type": "code",
   "execution_count": 49,
   "id": "54d926f7-829d-44cf-81d9-f0f1c15d1a14",
   "metadata": {},
   "outputs": [
    {
     "data": {
      "text/plain": [
       "array(['36', '60'], dtype='<U69')"
      ]
     },
     "execution_count": 49,
     "metadata": {},
     "output_type": "execute_result"
    }
   ],
   "source": [
    "np.unique(loan_data_str[:,2])"
   ]
  },
  {
   "cell_type": "code",
   "execution_count": 50,
   "id": "09c3f939-8771-4e67-af20-9dd4d1eda0e0",
   "metadata": {},
   "outputs": [
    {
     "data": {
      "text/plain": [
       "array(['issue_date', 'loan_status', 'term_months', 'grade', 'sub_grade', 'verification_status',\n",
       "       'url', 'addr_state'], dtype='<U19')"
      ]
     },
     "execution_count": 50,
     "metadata": {},
     "output_type": "execute_result"
    }
   ],
   "source": [
    "header_str"
   ]
  },
  {
   "cell_type": "code",
   "execution_count": 51,
   "id": "380f687b-45d2-422a-ab38-440054416626",
   "metadata": {},
   "outputs": [
    {
     "data": {
      "text/plain": [
       "array(['C', 'A', 'B', ..., 'A', 'D', 'A'], shape=(10000,), dtype='<U69')"
      ]
     },
     "execution_count": 51,
     "metadata": {},
     "output_type": "execute_result"
    }
   ],
   "source": [
    "loan_data_str[:,3]"
   ]
  },
  {
   "cell_type": "code",
   "execution_count": 52,
   "id": "acc68fd6-1236-4199-90f9-360db85af6b3",
   "metadata": {},
   "outputs": [
    {
     "data": {
      "text/plain": [
       "array(['', 'A', 'B', 'C', 'D', 'E', 'F', 'G'], dtype='<U69')"
      ]
     },
     "execution_count": 52,
     "metadata": {},
     "output_type": "execute_result"
    }
   ],
   "source": [
    "np.unique(loan_data_str[:,3])"
   ]
  },
  {
   "cell_type": "code",
   "execution_count": 53,
   "id": "5823f5c3-5f82-4fa0-a0bb-3dacf5f276e1",
   "metadata": {},
   "outputs": [
    {
     "data": {
      "text/plain": [
       "array(['', 'A1', 'A2', 'A3', 'A4', 'A5', 'B1', 'B2', 'B3', 'B4', 'B5', 'C1', 'C2', 'C3', 'C4',\n",
       "       'C5', 'D1', 'D2', 'D3', 'D4', 'D5', 'E1', 'E2', 'E3', 'E4', 'E5', 'F1', 'F2', 'F3', 'F4',\n",
       "       'F5', 'G1', 'G2', 'G3', 'G4', 'G5'], dtype='<U69')"
      ]
     },
     "execution_count": 53,
     "metadata": {},
     "output_type": "execute_result"
    }
   ],
   "source": [
    "np.unique(loan_data_str[:,4])"
   ]
  },
  {
   "cell_type": "code",
   "execution_count": 54,
   "id": "be2748b6-6676-4278-8386-c24174424e59",
   "metadata": {},
   "outputs": [],
   "source": [
    "#filling subgrade missing values\n",
    "for i in np.unique(loan_data_str[:,3]):\n",
    "    loan_data_str[:,4] = np.where(((loan_data_str[:,4]=='') & (loan_data_str[:,3]== i)),\n",
    "                                 (i + '5'),\n",
    "                                 loan_data_str[:,4])\n",
    "    "
   ]
  },
  {
   "cell_type": "code",
   "execution_count": 55,
   "id": "6d1ce192-0e67-4a11-930f-5ceab2a56cbb",
   "metadata": {},
   "outputs": [
    {
     "data": {
      "text/plain": [
       "(array(['5', 'A1', 'A2', 'A3', 'A4', 'A5', 'B1', 'B2', 'B3', 'B4', 'B5', 'C1', 'C2', 'C3', 'C4',\n",
       "        'C5', 'D1', 'D2', 'D3', 'D4', 'D5', 'E1', 'E2', 'E3', 'E4', 'E5', 'F1', 'F2', 'F3', 'F4',\n",
       "        'F5', 'G1', 'G2', 'G3', 'G4', 'G5'], dtype='<U69'),\n",
       " array([  9, 285, 278, 239, 323, 592, 509, 517, 530, 553, 633, 629, 567, 586, 564, 577, 391, 267,\n",
       "        250, 255, 288, 235, 162, 171, 139, 160,  94,  52,  34,  43,  24,  19,  10,   3,   7,   5]))"
      ]
     },
     "execution_count": 55,
     "metadata": {},
     "output_type": "execute_result"
    }
   ],
   "source": [
    "np.unique(loan_data_str[:,4], return_counts = True)"
   ]
  },
  {
   "cell_type": "code",
   "execution_count": 56,
   "id": "8b262bdc-d7f3-4d95-a4b1-82946c7b5b1a",
   "metadata": {},
   "outputs": [],
   "source": [
    "loan_data_str[:,4] = np.where(((loan_data_str[:,4]=='5') & (loan_data_str[:,3]== \"\")),\n",
    "                                 ('H1'),\n",
    "                                 loan_data_str[:,4])"
   ]
  },
  {
   "cell_type": "code",
   "execution_count": 57,
   "id": "1aff5276-7980-4273-93ed-dfa676b44bf9",
   "metadata": {},
   "outputs": [
    {
     "data": {
      "text/plain": [
       "(array(['A1', 'A2', 'A3', 'A4', 'A5', 'B1', 'B2', 'B3', 'B4', 'B5', 'C1', 'C2', 'C3', 'C4', 'C5',\n",
       "        'D1', 'D2', 'D3', 'D4', 'D5', 'E1', 'E2', 'E3', 'E4', 'E5', 'F1', 'F2', 'F3', 'F4', 'F5',\n",
       "        'G1', 'G2', 'G3', 'G4', 'G5', 'H1'], dtype='<U69'),\n",
       " array([285, 278, 239, 323, 592, 509, 517, 530, 553, 633, 629, 567, 586, 564, 577, 391, 267, 250,\n",
       "        255, 288, 235, 162, 171, 139, 160,  94,  52,  34,  43,  24,  19,  10,   3,   7,   5,   9]))"
      ]
     },
     "execution_count": 57,
     "metadata": {},
     "output_type": "execute_result"
    }
   ],
   "source": [
    "np.unique(loan_data_str[:,4], return_counts = True)"
   ]
  },
  {
   "cell_type": "code",
   "execution_count": 58,
   "id": "ff16040f-1a48-40bb-bdf2-fb8652818343",
   "metadata": {},
   "outputs": [
    {
     "name": "stdout",
     "output_type": "stream",
     "text": [
      "(array(['A1', 'A2', 'A3', 'A4', 'A5', 'B1', 'B2', 'B3', 'B4', 'B5', 'C1', 'C2', 'C3', 'C4', 'C5',\n",
      "       'D1', 'D2', 'D3', 'D4', 'D5', 'E1', 'E2', 'E3', 'E4', 'E5', 'F1', 'F2', 'F4', 'G1', 'G2',\n",
      "       'G5', 'H1'], dtype='<U69'), array([ 8, 16, 19, 17, 25, 17, 27, 34, 35, 23, 34, 28, 32, 30, 33, 13,  9, 13, 17, 10, 17, 14,  7,\n",
      "        8,  5,  5,  4,  2,  1,  2,  1,  9]))\n"
     ]
    }
   ],
   "source": [
    "print(np.unique(loan_data_str[loan_data_str[:, 3] == '', 4],return_counts = True))"
   ]
  },
  {
   "cell_type": "code",
   "execution_count": 59,
   "id": "44f5de6d-7174-4612-a45a-ef0ef7659ef8",
   "metadata": {},
   "outputs": [],
   "source": [
    "#hence we have all the values in subgrade even if the value of grade is empty so we can delete the grade column as it is reduntant.\n",
    "loan_data_str = np.delete(loan_data_str, 3, axis= 1)"
   ]
  },
  {
   "cell_type": "code",
   "execution_count": 60,
   "id": "55b85262-1ebb-42ce-b1a5-76ada31ac015",
   "metadata": {},
   "outputs": [
    {
     "data": {
      "text/plain": [
       "array(['C3', 'A5', 'B5', ..., 'A5', 'D2', 'A4'], shape=(10000,), dtype='<U69')"
      ]
     },
     "execution_count": 60,
     "metadata": {},
     "output_type": "execute_result"
    }
   ],
   "source": [
    "loan_data_str[:,3]"
   ]
  },
  {
   "cell_type": "code",
   "execution_count": 61,
   "id": "b2b67f49-8dd2-427e-a5db-57a5d178948a",
   "metadata": {},
   "outputs": [],
   "source": [
    "header_str = np.delete(header_str,3)"
   ]
  },
  {
   "cell_type": "code",
   "execution_count": 62,
   "id": "50bf9601-a195-4482-89ea-3423c98f4a34",
   "metadata": {},
   "outputs": [
    {
     "data": {
      "text/plain": [
       "array(['issue_date', 'loan_status', 'term_months', 'sub_grade', 'verification_status', 'url',\n",
       "       'addr_state'], dtype='<U19')"
      ]
     },
     "execution_count": 62,
     "metadata": {},
     "output_type": "execute_result"
    }
   ],
   "source": [
    "header_str"
   ]
  },
  {
   "cell_type": "code",
   "execution_count": 63,
   "id": "66713bf1-97de-4e3c-83d4-4e33ab554788",
   "metadata": {},
   "outputs": [
    {
     "data": {
      "text/plain": [
       "36"
      ]
     },
     "execution_count": 63,
     "metadata": {},
     "output_type": "execute_result"
    }
   ],
   "source": [
    "np.unique(loan_data_str[:,3]).shape[0]"
   ]
  },
  {
   "cell_type": "code",
   "execution_count": 64,
   "id": "80076f85-68b5-4e05-a7c3-40297f071fbe",
   "metadata": {},
   "outputs": [],
   "source": [
    "keys = list(np.unique(loan_data_str[:,3]))\n",
    "values = list(range(1,np.unique(loan_data_str[:,3]).shape[0]+1))\n",
    "dict_sub_grade = dict(zip(keys, values))"
   ]
  },
  {
   "cell_type": "code",
   "execution_count": 65,
   "id": "b24719a9-8587-4478-9269-b6673d2d79ac",
   "metadata": {},
   "outputs": [
    {
     "data": {
      "text/plain": [
       "{np.str_('A1'): 1,\n",
       " np.str_('A2'): 2,\n",
       " np.str_('A3'): 3,\n",
       " np.str_('A4'): 4,\n",
       " np.str_('A5'): 5,\n",
       " np.str_('B1'): 6,\n",
       " np.str_('B2'): 7,\n",
       " np.str_('B3'): 8,\n",
       " np.str_('B4'): 9,\n",
       " np.str_('B5'): 10,\n",
       " np.str_('C1'): 11,\n",
       " np.str_('C2'): 12,\n",
       " np.str_('C3'): 13,\n",
       " np.str_('C4'): 14,\n",
       " np.str_('C5'): 15,\n",
       " np.str_('D1'): 16,\n",
       " np.str_('D2'): 17,\n",
       " np.str_('D3'): 18,\n",
       " np.str_('D4'): 19,\n",
       " np.str_('D5'): 20,\n",
       " np.str_('E1'): 21,\n",
       " np.str_('E2'): 22,\n",
       " np.str_('E3'): 23,\n",
       " np.str_('E4'): 24,\n",
       " np.str_('E5'): 25,\n",
       " np.str_('F1'): 26,\n",
       " np.str_('F2'): 27,\n",
       " np.str_('F3'): 28,\n",
       " np.str_('F4'): 29,\n",
       " np.str_('F5'): 30,\n",
       " np.str_('G1'): 31,\n",
       " np.str_('G2'): 32,\n",
       " np.str_('G3'): 33,\n",
       " np.str_('G4'): 34,\n",
       " np.str_('G5'): 35,\n",
       " np.str_('H1'): 36}"
      ]
     },
     "execution_count": 65,
     "metadata": {},
     "output_type": "execute_result"
    }
   ],
   "source": [
    "dict_sub_grade"
   ]
  },
  {
   "cell_type": "code",
   "execution_count": 66,
   "id": "7c505450-3168-4ab0-b673-30bfc24b5f61",
   "metadata": {},
   "outputs": [],
   "source": [
    "for i in np.unique(loan_data_str[:,3]):\n",
    "    loan_data_str[:,3] = np.where(loan_data_str[:,3] == i,\n",
    "                                 str(dict_sub_grade[i]),\n",
    "                                 loan_data_str[:,3])"
   ]
  },
  {
   "cell_type": "code",
   "execution_count": 67,
   "id": "ac22ec3a-6b7b-4b8c-ad76-f70ac713055c",
   "metadata": {},
   "outputs": [
    {
     "data": {
      "text/plain": [
       "array(['1', '10', '11', '12', '13', '14', '15', '16', '17', '18', '19', '2', '20', '21', '22',\n",
       "       '23', '24', '25', '26', '27', '28', '29', '3', '30', '31', '32', '33', '34', '35', '36',\n",
       "       '4', '5', '6', '7', '8', '9'], dtype='<U69')"
      ]
     },
     "execution_count": 67,
     "metadata": {},
     "output_type": "execute_result"
    }
   ],
   "source": [
    "np.unique(loan_data_str[:,3])"
   ]
  },
  {
   "cell_type": "code",
   "execution_count": 68,
   "id": "5b5b8628-a39c-406c-912b-77140bc3406d",
   "metadata": {},
   "outputs": [
    {
     "data": {
      "text/plain": [
       "(array(['', 'Not Verified', 'Source Verified', 'Verified'], dtype='<U69'),\n",
       " array([ 500, 2673, 4116, 2711]))"
      ]
     },
     "execution_count": 68,
     "metadata": {},
     "output_type": "execute_result"
    }
   ],
   "source": [
    "#now next column verification status\n",
    "np.unique(loan_data_str[:,4], return_counts = True)"
   ]
  },
  {
   "cell_type": "code",
   "execution_count": 69,
   "id": "fb889125-3e13-4988-94c7-ef7517224ea0",
   "metadata": {},
   "outputs": [],
   "source": [
    "loan_data_str[:,4] = np.where((loan_data_str[:,4]== '') | (loan_data_str[:,4] == 'Not Verified'),\n",
    "                             0,\n",
    "                            1)"
   ]
  },
  {
   "cell_type": "code",
   "execution_count": 70,
   "id": "5aa77128-daf9-4bff-876b-a6fa3c5b61c5",
   "metadata": {},
   "outputs": [
    {
     "data": {
      "text/plain": [
       "(array(['0', '1'], dtype='<U69'), array([3173, 6827]))"
      ]
     },
     "execution_count": 70,
     "metadata": {},
     "output_type": "execute_result"
    }
   ],
   "source": [
    "np.unique(loan_data_str[:,4], return_counts = True)"
   ]
  },
  {
   "cell_type": "code",
   "execution_count": 71,
   "id": "7dbdd75b-ad48-4518-a9a7-3c124a60ba72",
   "metadata": {},
   "outputs": [
    {
     "data": {
      "text/plain": [
       "array(['issue_date', 'loan_status', 'term_months', 'sub_grade', 'verification_status', 'url',\n",
       "       'addr_state'], dtype='<U19')"
      ]
     },
     "execution_count": 71,
     "metadata": {},
     "output_type": "execute_result"
    }
   ],
   "source": [
    "header_str"
   ]
  },
  {
   "cell_type": "code",
   "execution_count": 72,
   "id": "6282edf9-5ba3-4c2d-9f47-7cbcf290f714",
   "metadata": {},
   "outputs": [
    {
     "data": {
      "text/plain": [
       "array(['https://www.lendingclub.com/browse/loanDetail.action?loan_id=48010226',\n",
       "       'https://www.lendingclub.com/browse/loanDetail.action?loan_id=57693261',\n",
       "       'https://www.lendingclub.com/browse/loanDetail.action?loan_id=59432726', ...,\n",
       "       'https://www.lendingclub.com/browse/loanDetail.action?loan_id=50415990',\n",
       "       'https://www.lendingclub.com/browse/loanDetail.action?loan_id=46154151',\n",
       "       'https://www.lendingclub.com/browse/loanDetail.action?loan_id=66055249'],\n",
       "      shape=(10000,), dtype='<U69')"
      ]
     },
     "execution_count": 72,
     "metadata": {},
     "output_type": "execute_result"
    }
   ],
   "source": [
    "#url\n",
    "loan_data_str[:,5]"
   ]
  },
  {
   "cell_type": "code",
   "execution_count": null,
   "id": "90d81e55-d2d8-45c1-8e7d-832b98c6e12d",
   "metadata": {},
   "outputs": [
    {
     "data": {
      "text/plain": [
       "array(['48010226', '57693261', '59432726', ..., '50415990', '46154151', '66055249'],\n",
       "      shape=(10000,), dtype='<U69')"
      ]
     },
     "execution_count": 73,
     "metadata": {},
     "output_type": "execute_result"
    }
   ],
   "source": [
    "np.char.chararray.strip(loan_data_str[:,5], \"https://www.lendingclub.com/browse/loanDetail.action?loan_id=\")\n"
   ]
  },
  {
   "cell_type": "code",
   "execution_count": 74,
   "id": "8dedaa71-fa39-404f-b1b8-997302483365",
   "metadata": {},
   "outputs": [],
   "source": [
    "loan_data_str[:,5] =  np.char.chararray.strip(loan_data_str[:,5], \"https://www.lendingclub.com/browse/loanDetail.action?loan_id=\")\n"
   ]
  },
  {
   "cell_type": "code",
   "execution_count": 75,
   "id": "04e41015-9d1f-48eb-beef-0914c2b95e05",
   "metadata": {},
   "outputs": [
    {
     "data": {
      "text/plain": [
       "array(['id', 'issue_d', 'loan_amnt', 'loan_status', 'funded_amnt', 'term', 'int_rate',\n",
       "       'installment', 'grade', 'sub_grade', 'verification_status', 'url', 'addr_state',\n",
       "       'total_pymnt'], dtype='<U19')"
      ]
     },
     "execution_count": 75,
     "metadata": {},
     "output_type": "execute_result"
    }
   ],
   "source": [
    "header_full"
   ]
  },
  {
   "cell_type": "code",
   "execution_count": 76,
   "id": "7c18ff44-f603-4f7b-940b-7b832544c7c4",
   "metadata": {},
   "outputs": [
    {
     "data": {
      "text/plain": [
       "array([48010226., 57693261., 59432726., ..., 50415990., 46154151., 66055249.], shape=(10000,))"
      ]
     },
     "execution_count": 76,
     "metadata": {},
     "output_type": "execute_result"
    }
   ],
   "source": [
    "loan_data_numeric[:,0]"
   ]
  },
  {
   "cell_type": "code",
   "execution_count": 77,
   "id": "24d6a906-7365-4cb2-a033-772619ae5504",
   "metadata": {},
   "outputs": [
    {
     "data": {
      "text/plain": [
       "array(['48010226', '57693261', '59432726', ..., '50415990', '46154151', '66055249'],\n",
       "      shape=(10000,), dtype='<U69')"
      ]
     },
     "execution_count": 77,
     "metadata": {},
     "output_type": "execute_result"
    }
   ],
   "source": [
    "loan_data_str[:,5]"
   ]
  },
  {
   "cell_type": "code",
   "execution_count": 78,
   "id": "94963e73-ad6a-4586-ac30-0f0e29ac475b",
   "metadata": {},
   "outputs": [
    {
     "data": {
      "text/plain": [
       "True"
      ]
     },
     "execution_count": 78,
     "metadata": {},
     "output_type": "execute_result"
    }
   ],
   "source": [
    "np.array_equal(loan_data_str[:,5].astype(dtype = \"int32\"), loan_data_numeric[:,0].astype(dtype = \"int32\"))"
   ]
  },
  {
   "cell_type": "code",
   "execution_count": 79,
   "id": "33e6cc87-8427-4733-b246-23f9c5445bfb",
   "metadata": {},
   "outputs": [],
   "source": [
    "#as both loan id and url is based on same loan id we can remove the url column and its data from the dataset\n",
    "loan_data_str =  np.delete(loan_data_str, 5 ,axis =1)\n",
    "header_str = np.delete(header_str, 5)"
   ]
  },
  {
   "cell_type": "code",
   "execution_count": 80,
   "id": "5d702caf-f5d4-4824-aace-c37d8f8bf56f",
   "metadata": {},
   "outputs": [
    {
     "data": {
      "text/plain": [
       "array(['issue_date', 'loan_status', 'term_months', 'sub_grade', 'verification_status',\n",
       "       'addr_state'], dtype='<U19')"
      ]
     },
     "execution_count": 80,
     "metadata": {},
     "output_type": "execute_result"
    }
   ],
   "source": [
    "header_str"
   ]
  },
  {
   "cell_type": "code",
   "execution_count": 81,
   "id": "2fe25907-0977-4213-8297-e3ac12e75c64",
   "metadata": {},
   "outputs": [],
   "source": [
    "states_names, states_count = np.unique(loan_data_str[:,5], return_counts = True)"
   ]
  },
  {
   "cell_type": "code",
   "execution_count": 82,
   "id": "8d17f7ac-8271-4646-9b40-45345a0d1529",
   "metadata": {},
   "outputs": [
    {
     "data": {
      "text/plain": [
       "(array(['CA', 'NY', 'TX', 'FL', '', 'IL', 'NJ', 'GA', 'PA', 'OH', 'MI', 'NC', 'VA', 'MD', 'AZ',\n",
       "        'WA', 'MA', 'CO', 'MO', 'MN', 'IN', 'WI', 'TN', 'CT', 'NV', 'AL', 'LA', 'OR', 'SC', 'KY',\n",
       "        'KS', 'OK', 'UT', 'AR', 'MS', 'NH', 'NM', 'WV', 'HI', 'RI', 'MT', 'DC', 'DE', 'WY', 'AK',\n",
       "        'NE', 'SD', 'VT', 'ND', 'ME'], dtype='<U69'),\n",
       " array([1336,  777,  758,  690,  500,  389,  341,  321,  320,  312,  267,  261,  242,  222,  220,\n",
       "         216,  210,  201,  160,  156,  152,  148,  143,  143,  130,  119,  116,  108,  107,   84,\n",
       "          84,   83,   74,   74,   61,   58,   57,   49,   44,   40,   28,   27,   27,   27,   26,\n",
       "          25,   24,   17,   16,   10]))"
      ]
     },
     "execution_count": 82,
     "metadata": {},
     "output_type": "execute_result"
    }
   ],
   "source": [
    "states_count_sorted = np.argsort(-states_count)\n",
    "states_names[states_count_sorted], states_count[states_count_sorted]"
   ]
  },
  {
   "cell_type": "code",
   "execution_count": 83,
   "id": "0871ef6d-b7cf-419f-b0b8-c94eabe806e1",
   "metadata": {},
   "outputs": [],
   "source": [
    "loan_data_str[:,5] = np.where(loan_data_str[:,5]=='',\n",
    "                              str(0),\n",
    "                              loan_data_str[:,5])"
   ]
  },
  {
   "cell_type": "code",
   "execution_count": 84,
   "id": "366de1f4-5af0-4a34-a8e3-7f3a72ece80e",
   "metadata": {},
   "outputs": [],
   "source": [
    "states_west = np.array(['WA','OR','CA','NV','ID','MT','WY','UT','CO','AZ','NM','HI','AK'])\n",
    "states_south = np.array(['TX','OK','AR','LA','MS','AL','TN','KY','FL','GA','SC','NC','VA','WV','MD','DE','DC'])\n",
    "states_midwest = np.array(['ND','SD','NE','KS','MN','IA','MO','WI','IL','IN','MI','OH'])\n",
    "states_east = np.array(['PA','NY','NJ','CT','MA','VT','NH','ME','RI'])\n"
   ]
  },
  {
   "cell_type": "code",
   "execution_count": 85,
   "id": "db8fc873-f934-45bf-ae69-eae1feee8e5b",
   "metadata": {},
   "outputs": [],
   "source": [
    "loan_data_str[:,5] = np.where(np.isin(loan_data_str[:,5], states_west),\n",
    "                             str(1),\n",
    "                             loan_data_str[:,5])\n",
    "loan_data_str[:,5] = np.where(np.isin(loan_data_str[:,5], states_south),\n",
    "                             str(2),\n",
    "                             loan_data_str[:,5])\n",
    "loan_data_str[:,5] = np.where(np.isin(loan_data_str[:,5], states_midwest),\n",
    "                             str(3),\n",
    "                             loan_data_str[:,5])\n",
    "loan_data_str[:,5] = np.where(np.isin(loan_data_str[:,5], states_east),\n",
    "                             str(4),\n",
    "                             loan_data_str[:,5])"
   ]
  },
  {
   "cell_type": "code",
   "execution_count": 86,
   "id": "bd8ff70b-9137-436c-8ab2-102028210b0d",
   "metadata": {},
   "outputs": [
    {
     "data": {
      "text/plain": [
       "array(['0', '1', '2', '3', '4'], dtype='<U69')"
      ]
     },
     "execution_count": 86,
     "metadata": {},
     "output_type": "execute_result"
    }
   ],
   "source": [
    "np.unique(loan_data_str[:,5])"
   ]
  },
  {
   "cell_type": "markdown",
   "id": "b5e1048b-886e-4ff7-ab9a-4386592b5f34",
   "metadata": {},
   "source": [
    "now we have all the strings converted into some form of numeric number in the strings\n",
    "now we will cast them into integer and save the progress as checkpoint"
   ]
  },
  {
   "cell_type": "code",
   "execution_count": 87,
   "id": "dc437aea-c04c-461a-957a-30ffe548502f",
   "metadata": {},
   "outputs": [
    {
     "data": {
      "text/plain": [
       "array([['5', '1', '36', '13', '1', '1'],\n",
       "       ['0', '1', '36', '5', '1', '4'],\n",
       "       ['9', '1', '36', '10', '1', '4'],\n",
       "       ...,\n",
       "       ['6', '1', '36', '5', '1', '1'],\n",
       "       ['4', '1', '36', '17', '1', '3'],\n",
       "       ['12', '1', '36', '4', '0', '3']], shape=(10000, 6), dtype='<U69')"
      ]
     },
     "execution_count": 87,
     "metadata": {},
     "output_type": "execute_result"
    }
   ],
   "source": [
    "loan_data_str"
   ]
  },
  {
   "cell_type": "code",
   "execution_count": 88,
   "id": "e7316c69-de51-4f34-b67f-6759f472e08c",
   "metadata": {},
   "outputs": [],
   "source": [
    "loan_data_str = loan_data_str.astype(int)"
   ]
  },
  {
   "cell_type": "code",
   "execution_count": 89,
   "id": "766023a8-2b3f-4ac5-b780-16f92127f336",
   "metadata": {},
   "outputs": [
    {
     "data": {
      "text/plain": [
       "array([[ 5,  1, 36, 13,  1,  1],\n",
       "       [ 0,  1, 36,  5,  1,  4],\n",
       "       [ 9,  1, 36, 10,  1,  4],\n",
       "       ...,\n",
       "       [ 6,  1, 36,  5,  1,  1],\n",
       "       [ 4,  1, 36, 17,  1,  3],\n",
       "       [12,  1, 36,  4,  0,  3]], shape=(10000, 6))"
      ]
     },
     "execution_count": 89,
     "metadata": {},
     "output_type": "execute_result"
    }
   ],
   "source": [
    "loan_data_str"
   ]
  },
  {
   "cell_type": "code",
   "execution_count": 90,
   "id": "b11ddbef-192c-4227-aeb4-2ef2daae93d2",
   "metadata": {},
   "outputs": [],
   "source": [
    "#checkpoint 1\n",
    "checkpoint_str = checkpoint(\"checkpoint-strings\", header_str, loan_data_str)"
   ]
  },
  {
   "cell_type": "code",
   "execution_count": 91,
   "id": "861d6726-69aa-4558-92ec-21e2fbb80ea6",
   "metadata": {},
   "outputs": [
    {
     "data": {
      "text/plain": [
       "array([[ 5,  1, 36, 13,  1,  1],\n",
       "       [ 0,  1, 36,  5,  1,  4],\n",
       "       [ 9,  1, 36, 10,  1,  4],\n",
       "       ...,\n",
       "       [ 6,  1, 36,  5,  1,  1],\n",
       "       [ 4,  1, 36, 17,  1,  3],\n",
       "       [12,  1, 36,  4,  0,  3]], shape=(10000, 6))"
      ]
     },
     "execution_count": 91,
     "metadata": {},
     "output_type": "execute_result"
    }
   ],
   "source": [
    "checkpoint_str['data']"
   ]
  },
  {
   "cell_type": "code",
   "execution_count": 92,
   "id": "a45d1457-bcc1-4589-bb97-c3fc61d3fd5c",
   "metadata": {},
   "outputs": [
    {
     "data": {
      "text/plain": [
       "True"
      ]
     },
     "execution_count": 92,
     "metadata": {},
     "output_type": "execute_result"
    }
   ],
   "source": [
    "np.array_equal(checkpoint_str['data'],loan_data_str)"
   ]
  },
  {
   "cell_type": "markdown",
   "id": "672f614a-2cd1-45b1-a821-eb2f32dea612",
   "metadata": {},
   "source": [
    "##manipulating_numeric_data"
   ]
  },
  {
   "cell_type": "code",
   "execution_count": 93,
   "id": "905a745b-bf3b-45a4-8449-c8f4f41b031b",
   "metadata": {},
   "outputs": [
    {
     "data": {
      "text/plain": [
       "array([[48010226.  ,    35000.  ,    35000.  ,       13.33,     1184.86,     9452.96],\n",
       "       [57693261.  ,    30000.  ,    30000.  , 68616520.  ,      938.57,     4679.7 ],\n",
       "       [59432726.  ,    15000.  ,    15000.  , 68616520.  ,      494.86,     1969.83],\n",
       "       ...,\n",
       "       [50415990.  ,    10000.  ,    10000.  , 68616520.  , 68616520.  ,     2185.64],\n",
       "       [46154151.  , 68616520.  ,    10000.  ,       16.55,      354.3 ,     3199.4 ],\n",
       "       [66055249.  ,    10000.  ,    10000.  , 68616520.  ,      309.97,      301.9 ]],\n",
       "      shape=(10000, 6))"
      ]
     },
     "execution_count": 93,
     "metadata": {},
     "output_type": "execute_result"
    }
   ],
   "source": [
    "loan_data_numeric"
   ]
  },
  {
   "cell_type": "code",
   "execution_count": 94,
   "id": "60526c80-8f4e-4519-a111-5f8367cfb909",
   "metadata": {},
   "outputs": [
    {
     "data": {
      "text/plain": [
       "np.int64(0)"
      ]
     },
     "execution_count": 94,
     "metadata": {},
     "output_type": "execute_result"
    }
   ],
   "source": [
    "np.isnan(loan_data_numeric).sum()"
   ]
  },
  {
   "cell_type": "code",
   "execution_count": 95,
   "id": "c098fe2a-2b50-4776-b60a-9d0071f50b94",
   "metadata": {},
   "outputs": [],
   "source": [
    "#0 shows no missing value, but still when we load the data set we had substituted the missing value with temporay filler which needs to be substituted with worst possible values"
   ]
  },
  {
   "cell_type": "code",
   "execution_count": 96,
   "id": "226fe77f-8aeb-4534-926d-30b0b4242016",
   "metadata": {},
   "outputs": [
    {
     "data": {
      "text/plain": [
       "array(['id', 'loan_amnt', 'funded_amnt', 'int_rate', 'installment', 'total_pymnt'], dtype='<U19')"
      ]
     },
     "execution_count": 96,
     "metadata": {},
     "output_type": "execute_result"
    }
   ],
   "source": [
    "header_numeric"
   ]
  },
  {
   "cell_type": "code",
   "execution_count": 97,
   "id": "69ef282d-cb2c-464a-b177-f7bd540001ae",
   "metadata": {},
   "outputs": [
    {
     "data": {
      "text/plain": [
       "np.float64(68616520.0)"
      ]
     },
     "execution_count": 97,
     "metadata": {},
     "output_type": "execute_result"
    }
   ],
   "source": [
    "temp_fill"
   ]
  },
  {
   "cell_type": "code",
   "execution_count": 98,
   "id": "3619254e-dd2e-490c-afa5-2f279ed80fa5",
   "metadata": {},
   "outputs": [
    {
     "data": {
      "text/plain": [
       "np.int64(0)"
      ]
     },
     "execution_count": 98,
     "metadata": {},
     "output_type": "execute_result"
    }
   ],
   "source": [
    "np.isin(loan_data_numeric[:,0], temp_fill).sum() #zero means no value is equal to temporary value"
   ]
  },
  {
   "cell_type": "code",
   "execution_count": 99,
   "id": "811b3036-a8fe-4252-8182-d9080ae129dc",
   "metadata": {},
   "outputs": [
    {
     "data": {
      "text/plain": [
       "array(['id', 'loan_amnt', 'funded_amnt', 'int_rate', 'installment', 'total_pymnt'], dtype='<U19')"
      ]
     },
     "execution_count": 99,
     "metadata": {},
     "output_type": "execute_result"
    }
   ],
   "source": [
    "header_numeric"
   ]
  },
  {
   "cell_type": "code",
   "execution_count": 100,
   "id": "a4db47cd-7d32-4ffc-9a92-5abd719977e8",
   "metadata": {},
   "outputs": [],
   "source": [
    "#since only funded amt is only column where min value will be the worst possible and rest all must be substituted with max value of that column"
   ]
  },
  {
   "cell_type": "code",
   "execution_count": 101,
   "id": "c1fa6f2f-b120-4678-b3a5-be1c70b39a18",
   "metadata": {},
   "outputs": [
    {
     "data": {
      "text/plain": [
       "array([[  373332.  ,     1000.  ,     1000.  ,        6.  ,       31.42,        0.  ],\n",
       "       [54015809.19,    15273.46,    15311.04,       16.62,      440.92,     3143.85],\n",
       "       [68616519.  ,    35000.  ,    35000.  ,       28.99,     1372.97,    41913.62]])"
      ]
     },
     "execution_count": 101,
     "metadata": {},
     "output_type": "execute_result"
    }
   ],
   "source": [
    "temp_stats[:,column_numeric]\n"
   ]
  },
  {
   "cell_type": "code",
   "execution_count": 102,
   "id": "0f0fad84-8189-4069-b7c9-95b246fdd355",
   "metadata": {},
   "outputs": [
    {
     "data": {
      "text/plain": [
       "array([35000., 30000., 15000., ..., 10000., 10000., 10000.], shape=(10000,))"
      ]
     },
     "execution_count": 102,
     "metadata": {},
     "output_type": "execute_result"
    }
   ],
   "source": [
    "loan_data_numeric[:,2]"
   ]
  },
  {
   "cell_type": "code",
   "execution_count": 103,
   "id": "229109a3-9e49-4c82-848a-58acf28d1858",
   "metadata": {},
   "outputs": [
    {
     "data": {
      "text/plain": [
       "array([35000., 30000., 15000., ..., 10000., 10000., 10000.], shape=(10000,))"
      ]
     },
     "execution_count": 103,
     "metadata": {},
     "output_type": "execute_result"
    }
   ],
   "source": [
    "loan_data_numeric[:,2] = np.where(loan_data_numeric[:,2] == temp_fill,\n",
    "                                 temp_stats[0,column_numeric[2]],\n",
    "                                 loan_data_numeric[:,2])\n",
    "loan_data_numeric[:,2]"
   ]
  },
  {
   "cell_type": "code",
   "execution_count": 104,
   "id": "9833bd09-65c1-496a-aac5-4c2b7c2804b8",
   "metadata": {},
   "outputs": [
    {
     "data": {
      "text/plain": [
       "array(['id', 'loan_amnt', 'funded_amnt', 'int_rate', 'installment', 'total_pymnt'], dtype='<U19')"
      ]
     },
     "execution_count": 104,
     "metadata": {},
     "output_type": "execute_result"
    }
   ],
   "source": [
    "header_numeric"
   ]
  },
  {
   "cell_type": "code",
   "execution_count": 105,
   "id": "8d8dabc9-6ef5-4b8d-aff2-289c56dad865",
   "metadata": {},
   "outputs": [],
   "source": [
    "for i in [1,3,4,5]:\n",
    "    loan_data_numeric[:,i] = np.where(loan_data_numeric[:,i] == temp_fill,\n",
    "                                     temp_stats[2,column_numeric[i]],\n",
    "                                     loan_data_numeric[:,i])"
   ]
  },
  {
   "cell_type": "code",
   "execution_count": 106,
   "id": "5d28bd5c-077c-4212-9c73-2487c70cc55e",
   "metadata": {},
   "outputs": [
    {
     "data": {
      "text/plain": [
       "array([[48010226.  ,    35000.  ,    35000.  ,       13.33,     1184.86,     9452.96],\n",
       "       [57693261.  ,    30000.  ,    30000.  ,       28.99,      938.57,     4679.7 ],\n",
       "       [59432726.  ,    15000.  ,    15000.  ,       28.99,      494.86,     1969.83],\n",
       "       ...,\n",
       "       [50415990.  ,    10000.  ,    10000.  ,       28.99,     1372.97,     2185.64],\n",
       "       [46154151.  ,    35000.  ,    10000.  ,       16.55,      354.3 ,     3199.4 ],\n",
       "       [66055249.  ,    10000.  ,    10000.  ,       28.99,      309.97,      301.9 ]],\n",
       "      shape=(10000, 6))"
      ]
     },
     "execution_count": 106,
     "metadata": {},
     "output_type": "execute_result"
    }
   ],
   "source": [
    "loan_data_numeric"
   ]
  },
  {
   "cell_type": "code",
   "execution_count": null,
   "id": "2c230e37-e476-4f7d-a494-c6d9b5a317f0",
   "metadata": {},
   "outputs": [],
   "source": [
    "eur_usd = np.genfromtxt('EUR-USD.csv', delimiter = ',', autostrip = True, skip_header = 1, usecols = 3) #we will use adjusted closing price for adjusting"
   ]
  },
  {
   "cell_type": "code",
   "execution_count": 108,
   "id": "0f89acdd-fdad-457c-8fd4-b3accf025f09",
   "metadata": {},
   "outputs": [
    {
     "data": {
      "text/plain": [
       "array([1.13, 1.12, 1.08, 1.11, 1.1 , 1.12, 1.09, 1.13, 1.13, 1.1 , 1.06, 1.09])"
      ]
     },
     "execution_count": 108,
     "metadata": {},
     "output_type": "execute_result"
    }
   ],
   "source": [
    "eur_usd"
   ]
  },
  {
   "cell_type": "code",
   "execution_count": 109,
   "id": "d4ca0c42-0753-408c-89d8-4a67df469750",
   "metadata": {},
   "outputs": [
    {
     "data": {
      "text/plain": [
       "array([ 5,  0,  9, ...,  6,  4, 12], shape=(10000,))"
      ]
     },
     "execution_count": 109,
     "metadata": {},
     "output_type": "execute_result"
    }
   ],
   "source": [
    "loan_data_str[:,0]"
   ]
  },
  {
   "cell_type": "code",
   "execution_count": 110,
   "id": "7465d242-a6d3-4475-a496-6ddf1aa44d67",
   "metadata": {},
   "outputs": [
    {
     "data": {
      "text/plain": [
       "array([1.1 , 1.11, 1.13, ..., 1.12, 1.11, 1.09], shape=(10000,))"
      ]
     },
     "execution_count": 110,
     "metadata": {},
     "output_type": "execute_result"
    }
   ],
   "source": [
    "exchange_rate = loan_data_str[:,0]\n",
    "for i in range(1,13):\n",
    "    exchange_rate = np.where(exchange_rate == i,\n",
    "                            eur_usd[i-1],\n",
    "                            exchange_rate)\n",
    "exchange_rate = np.where(exchange_rate == 0,\n",
    "                        np.mean(eur_usd),\n",
    "                        exchange_rate)\n",
    "exchange_rate"
   ]
  },
  {
   "cell_type": "code",
   "execution_count": 111,
   "id": "7fb6a3db-5b67-4f3b-b751-8b18a5da3e81",
   "metadata": {},
   "outputs": [
    {
     "data": {
      "text/plain": [
       "(10000,)"
      ]
     },
     "execution_count": 111,
     "metadata": {},
     "output_type": "execute_result"
    }
   ],
   "source": [
    "exchange_rate.shape"
   ]
  },
  {
   "cell_type": "code",
   "execution_count": 112,
   "id": "2f236d34-b0dc-4f5f-b86b-00553b11a2e8",
   "metadata": {},
   "outputs": [
    {
     "data": {
      "text/plain": [
       "(10000, 6)"
      ]
     },
     "execution_count": 112,
     "metadata": {},
     "output_type": "execute_result"
    }
   ],
   "source": [
    "loan_data_numeric.shape"
   ]
  },
  {
   "cell_type": "code",
   "execution_count": 113,
   "id": "c5312237-f6eb-41a9-b65d-b8647bab45b3",
   "metadata": {},
   "outputs": [],
   "source": [
    "exchange_rate = np.reshape(exchange_rate,(10000,1))"
   ]
  },
  {
   "cell_type": "code",
   "execution_count": 114,
   "id": "1053359b-e81e-4583-a4f2-190088e4ae9d",
   "metadata": {},
   "outputs": [],
   "source": [
    "loan_data_numeric = np.hstack((loan_data_numeric,exchange_rate))"
   ]
  },
  {
   "cell_type": "code",
   "execution_count": 115,
   "id": "b732c723-e2db-4859-b029-e5912851fd0a",
   "metadata": {},
   "outputs": [
    {
     "data": {
      "text/plain": [
       "array(['id', 'loan_amnt', 'funded_amnt', 'int_rate', 'installment', 'total_pymnt', 'exchange_rate'],\n",
       "      dtype='<U19')"
      ]
     },
     "execution_count": 115,
     "metadata": {},
     "output_type": "execute_result"
    }
   ],
   "source": [
    "header_numeric = np.concatenate((header_numeric,np.array(['exchange_rate'])))\n",
    "header_numeric"
   ]
  },
  {
   "cell_type": "code",
   "execution_count": 116,
   "id": "f498873a-b297-4946-84d2-378f772bdd5b",
   "metadata": {},
   "outputs": [],
   "source": [
    "#now converting from usd to eur"
   ]
  },
  {
   "cell_type": "code",
   "execution_count": 117,
   "id": "333a2dec-9aea-47e4-9649-68ba1e8f5e57",
   "metadata": {},
   "outputs": [
    {
     "data": {
      "text/plain": [
       "array(['id', 'loan_amnt', 'funded_amnt', 'int_rate', 'installment', 'total_pymnt', 'exchange_rate'],\n",
       "      dtype='<U19')"
      ]
     },
     "execution_count": 117,
     "metadata": {},
     "output_type": "execute_result"
    }
   ],
   "source": [
    "header_numeric"
   ]
  },
  {
   "cell_type": "code",
   "execution_count": 118,
   "id": "8bfe12de-4f02-4077-8dd3-9f212ca27a78",
   "metadata": {},
   "outputs": [],
   "source": [
    "col_dollar = np.array([1,2,4,5])"
   ]
  },
  {
   "cell_type": "code",
   "execution_count": 119,
   "id": "b897860a-3201-4b2c-aca9-c33524a454d4",
   "metadata": {},
   "outputs": [
    {
     "data": {
      "text/plain": [
       "array([[35000.  , 35000.  ,  1184.86,  9452.96],\n",
       "       [30000.  , 30000.  ,   938.57,  4679.7 ],\n",
       "       [15000.  , 15000.  ,   494.86,  1969.83],\n",
       "       ...,\n",
       "       [10000.  , 10000.  ,  1372.97,  2185.64],\n",
       "       [35000.  , 10000.  ,   354.3 ,  3199.4 ],\n",
       "       [10000.  , 10000.  ,   309.97,   301.9 ]], shape=(10000, 4))"
      ]
     },
     "execution_count": 119,
     "metadata": {},
     "output_type": "execute_result"
    }
   ],
   "source": [
    "loan_data_numeric[:,col_dollar]"
   ]
  },
  {
   "cell_type": "code",
   "execution_count": 120,
   "id": "0b31e118-7c8a-41e4-9415-2e4a3f153d2b",
   "metadata": {},
   "outputs": [
    {
     "data": {
      "text/plain": [
       "array([[48010226.  ,    35000.  ,    35000.  , ...,     1184.86,     9452.96,        1.1 ],\n",
       "       [57693261.  ,    30000.  ,    30000.  , ...,      938.57,     4679.7 ,        1.11],\n",
       "       [59432726.  ,    15000.  ,    15000.  , ...,      494.86,     1969.83,        1.13],\n",
       "       ...,\n",
       "       [50415990.  ,    10000.  ,    10000.  , ...,     1372.97,     2185.64,        1.12],\n",
       "       [46154151.  ,    35000.  ,    10000.  , ...,      354.3 ,     3199.4 ,        1.11],\n",
       "       [66055249.  ,    10000.  ,    10000.  , ...,      309.97,      301.9 ,        1.09]],\n",
       "      shape=(10000, 7))"
      ]
     },
     "execution_count": 120,
     "metadata": {},
     "output_type": "execute_result"
    }
   ],
   "source": [
    "loan_data_numeric"
   ]
  },
  {
   "cell_type": "code",
   "execution_count": 121,
   "id": "a991afc1-4693-440b-971d-b0057ebbbdea",
   "metadata": {},
   "outputs": [],
   "source": [
    "#now adding all the converted amounts into the original dataset\n",
    "for i in col_dollar:\n",
    "    loan_data_numeric = np.hstack((loan_data_numeric,np.reshape(loan_data_numeric[:,i]/loan_data_numeric[:,6], (10000,1))))\n"
   ]
  },
  {
   "cell_type": "code",
   "execution_count": 122,
   "id": "09295d38-5097-4f95-973c-516334a88e0b",
   "metadata": {},
   "outputs": [
    {
     "data": {
      "text/plain": [
       "array([[48010226.  ,    35000.  ,    35000.  , ...,    31933.3 ,     1081.04,     8624.69],\n",
       "       [57693261.  ,    30000.  ,    30000.  , ...,    27132.46,      848.86,     4232.39],\n",
       "       [59432726.  ,    15000.  ,    15000.  , ...,    13326.3 ,      439.64,     1750.04],\n",
       "       ...,\n",
       "       [50415990.  ,    10000.  ,    10000.  , ...,     8910.3 ,     1223.36,     1947.47],\n",
       "       [46154151.  ,    35000.  ,    10000.  , ...,     8997.4 ,      318.78,     2878.63],\n",
       "       [66055249.  ,    10000.  ,    10000.  , ...,     9145.8 ,      283.49,      276.11]],\n",
       "      shape=(10000, 11))"
      ]
     },
     "execution_count": 122,
     "metadata": {},
     "output_type": "execute_result"
    }
   ],
   "source": [
    "loan_data_numeric"
   ]
  },
  {
   "cell_type": "code",
   "execution_count": 123,
   "id": "d7b3b2f4-28f6-47d4-9ee0-2672a4a53652",
   "metadata": {},
   "outputs": [],
   "source": [
    "header_additional = np.array([col_name + '_EUR' for col_name in header_numeric[col_dollar]])"
   ]
  },
  {
   "cell_type": "code",
   "execution_count": 124,
   "id": "78bac419-0af5-4695-82f3-39fc50652919",
   "metadata": {},
   "outputs": [
    {
     "data": {
      "text/plain": [
       "(7,)"
      ]
     },
     "execution_count": 124,
     "metadata": {},
     "output_type": "execute_result"
    }
   ],
   "source": [
    "header_numeric.shape"
   ]
  },
  {
   "cell_type": "code",
   "execution_count": 125,
   "id": "a6b2f67d-c5bd-411d-9779-92d522d56fde",
   "metadata": {},
   "outputs": [],
   "source": [
    "header_numeric = np.concatenate((header_numeric,header_additional))"
   ]
  },
  {
   "cell_type": "code",
   "execution_count": 126,
   "id": "7ba03afb-2fd9-4a0f-894b-33b39c013d0d",
   "metadata": {},
   "outputs": [
    {
     "data": {
      "text/plain": [
       "(11,)"
      ]
     },
     "execution_count": 126,
     "metadata": {},
     "output_type": "execute_result"
    }
   ],
   "source": [
    "header_numeric.shape"
   ]
  },
  {
   "cell_type": "code",
   "execution_count": 127,
   "id": "45a5c29b-b71f-4d2c-937f-d5b894f5cf3d",
   "metadata": {},
   "outputs": [],
   "source": [
    "header_numeric[col_dollar] = np.array([col_name + '_USD' for col_name in header_numeric[col_dollar]])"
   ]
  },
  {
   "cell_type": "code",
   "execution_count": 128,
   "id": "8c365deb-4eaa-4316-903c-215d83af7afc",
   "metadata": {},
   "outputs": [
    {
     "data": {
      "text/plain": [
       "array(['id', 'loan_amnt_USD', 'funded_amnt_USD', 'int_rate', 'installment_USD', 'total_pymnt_USD',\n",
       "       'exchange_rate', 'loan_amnt_EUR', 'funded_amnt_EUR', 'installment_EUR', 'total_pymnt_EUR'],\n",
       "      dtype='<U19')"
      ]
     },
     "execution_count": 128,
     "metadata": {},
     "output_type": "execute_result"
    }
   ],
   "source": [
    "header_numeric"
   ]
  },
  {
   "cell_type": "code",
   "execution_count": 129,
   "id": "2fe0aa6b-6e0d-4d19-be70-3d9e1c58b28c",
   "metadata": {},
   "outputs": [],
   "source": [
    "#rearranging the header in order where usd and eur columns come side by side\n",
    "col_index_order = [0,1,7,2,8,3,4,9,5,10,6]"
   ]
  },
  {
   "cell_type": "code",
   "execution_count": 130,
   "id": "75863684-4936-4421-8e09-7694712c7e22",
   "metadata": {},
   "outputs": [],
   "source": [
    "header_numeric = header_numeric[col_index_order]"
   ]
  },
  {
   "cell_type": "code",
   "execution_count": 131,
   "id": "3d597eca-c4ee-42c0-8b0a-52011d6a0499",
   "metadata": {},
   "outputs": [
    {
     "data": {
      "text/plain": [
       "array(['id', 'loan_amnt_USD', 'loan_amnt_EUR', 'funded_amnt_USD', 'funded_amnt_EUR', 'int_rate',\n",
       "       'installment_USD', 'installment_EUR', 'total_pymnt_USD', 'total_pymnt_EUR', 'exchange_rate'],\n",
       "      dtype='<U19')"
      ]
     },
     "execution_count": 131,
     "metadata": {},
     "output_type": "execute_result"
    }
   ],
   "source": [
    "header_numeric"
   ]
  },
  {
   "cell_type": "code",
   "execution_count": 132,
   "id": "4a722b1f-3c9f-43f1-8789-7f483b06c4f0",
   "metadata": {},
   "outputs": [],
   "source": [
    "loan_data_numeric = loan_data_numeric[:,col_index_order]"
   ]
  },
  {
   "cell_type": "code",
   "execution_count": 133,
   "id": "dd24aae2-b255-4c0d-9be4-1e1840b990d8",
   "metadata": {},
   "outputs": [
    {
     "data": {
      "text/plain": [
       "array([[48010226.  ,    35000.  ,    31933.3 , ...,     9452.96,     8624.69,        1.1 ],\n",
       "       [57693261.  ,    30000.  ,    27132.46, ...,     4679.7 ,     4232.39,        1.11],\n",
       "       [59432726.  ,    15000.  ,    13326.3 , ...,     1969.83,     1750.04,        1.13],\n",
       "       ...,\n",
       "       [50415990.  ,    10000.  ,     8910.3 , ...,     2185.64,     1947.47,        1.12],\n",
       "       [46154151.  ,    35000.  ,    31490.9 , ...,     3199.4 ,     2878.63,        1.11],\n",
       "       [66055249.  ,    10000.  ,     9145.8 , ...,      301.9 ,      276.11,        1.09]],\n",
       "      shape=(10000, 11))"
      ]
     },
     "execution_count": 133,
     "metadata": {},
     "output_type": "execute_result"
    }
   ],
   "source": [
    "loan_data_numeric"
   ]
  },
  {
   "cell_type": "code",
   "execution_count": 134,
   "id": "9f9b2ae4-e8f0-4e9e-a2b0-03b53cf524c0",
   "metadata": {},
   "outputs": [
    {
     "data": {
      "text/plain": [
       "np.str_('int_rate')"
      ]
     },
     "execution_count": 134,
     "metadata": {},
     "output_type": "execute_result"
    }
   ],
   "source": [
    "header_numeric[5]"
   ]
  },
  {
   "cell_type": "code",
   "execution_count": 135,
   "id": "bc9abc6f-4c62-43fc-a7c0-19a76b9e595c",
   "metadata": {},
   "outputs": [
    {
     "data": {
      "text/plain": [
       "array([13.33, 28.99, 28.99, ..., 28.99, 16.55, 28.99], shape=(10000,))"
      ]
     },
     "execution_count": 135,
     "metadata": {},
     "output_type": "execute_result"
    }
   ],
   "source": [
    "loan_data_numeric[:,5]"
   ]
  },
  {
   "cell_type": "code",
   "execution_count": 136,
   "id": "42a6739b-5131-4fae-b830-77d3f3a6778f",
   "metadata": {},
   "outputs": [],
   "source": [
    "loan_data_numeric[:,5] = loan_data_numeric[:,5]/100"
   ]
  },
  {
   "cell_type": "code",
   "execution_count": 137,
   "id": "7206cea5-4028-4096-862b-b97cac1cd235",
   "metadata": {},
   "outputs": [
    {
     "data": {
      "text/plain": [
       "array([0.13, 0.29, 0.29, ..., 0.29, 0.17, 0.29], shape=(10000,))"
      ]
     },
     "execution_count": 137,
     "metadata": {},
     "output_type": "execute_result"
    }
   ],
   "source": [
    "loan_data_numeric[:,5]"
   ]
  },
  {
   "cell_type": "code",
   "execution_count": 138,
   "id": "e3d9dda4-79f7-4dee-bb74-154483a9879a",
   "metadata": {},
   "outputs": [],
   "source": [
    "checkpoint_numeric = checkpoint(\"Checkpoint-Numeric\", header_numeric,loan_data_numeric)\n"
   ]
  },
  {
   "cell_type": "code",
   "execution_count": 139,
   "id": "32b4ce61-cc9a-4307-ab56-ebd3da92b8c8",
   "metadata": {},
   "outputs": [
    {
     "data": {
      "text/plain": [
       "(array(['id', 'loan_amnt_USD', 'loan_amnt_EUR', 'funded_amnt_USD', 'funded_amnt_EUR', 'int_rate',\n",
       "        'installment_USD', 'installment_EUR', 'total_pymnt_USD', 'total_pymnt_EUR', 'exchange_rate'],\n",
       "       dtype='<U19'),\n",
       " array([[48010226.  ,    35000.  ,    31933.3 , ...,     9452.96,     8624.69,        1.1 ],\n",
       "        [57693261.  ,    30000.  ,    27132.46, ...,     4679.7 ,     4232.39,        1.11],\n",
       "        [59432726.  ,    15000.  ,    13326.3 , ...,     1969.83,     1750.04,        1.13],\n",
       "        ...,\n",
       "        [50415990.  ,    10000.  ,     8910.3 , ...,     2185.64,     1947.47,        1.12],\n",
       "        [46154151.  ,    35000.  ,    31490.9 , ...,     3199.4 ,     2878.63,        1.11],\n",
       "        [66055249.  ,    10000.  ,     9145.8 , ...,      301.9 ,      276.11,        1.09]],\n",
       "       shape=(10000, 11)))"
      ]
     },
     "execution_count": 139,
     "metadata": {},
     "output_type": "execute_result"
    }
   ],
   "source": [
    "checkpoint_numeric['header'],checkpoint_numeric['data']"
   ]
  },
  {
   "cell_type": "code",
   "execution_count": 140,
   "id": "5868312c-3192-4c61-a901-c753d9ae0cdb",
   "metadata": {},
   "outputs": [
    {
     "data": {
      "text/plain": [
       "array([[48010226.  ,    35000.  ,    31933.3 , ...,     9452.96,     8624.69,        1.1 ],\n",
       "       [57693261.  ,    30000.  ,    27132.46, ...,     4679.7 ,     4232.39,        1.11],\n",
       "       [59432726.  ,    15000.  ,    13326.3 , ...,     1969.83,     1750.04,        1.13],\n",
       "       ...,\n",
       "       [50415990.  ,    10000.  ,     8910.3 , ...,     2185.64,     1947.47,        1.12],\n",
       "       [46154151.  ,    35000.  ,    31490.9 , ...,     3199.4 ,     2878.63,        1.11],\n",
       "       [66055249.  ,    10000.  ,     9145.8 , ...,      301.9 ,      276.11,        1.09]],\n",
       "      shape=(10000, 11))"
      ]
     },
     "execution_count": 140,
     "metadata": {},
     "output_type": "execute_result"
    }
   ],
   "source": [
    "checkpoint_numeric['data']"
   ]
  },
  {
   "cell_type": "code",
   "execution_count": 141,
   "id": "534fa9fa-6925-4738-803a-3fef978bc747",
   "metadata": {},
   "outputs": [
    {
     "data": {
      "text/plain": [
       "array([[ 5,  1, 36, 13,  1,  1],\n",
       "       [ 0,  1, 36,  5,  1,  4],\n",
       "       [ 9,  1, 36, 10,  1,  4],\n",
       "       ...,\n",
       "       [ 6,  1, 36,  5,  1,  1],\n",
       "       [ 4,  1, 36, 17,  1,  3],\n",
       "       [12,  1, 36,  4,  0,  3]], shape=(10000, 6))"
      ]
     },
     "execution_count": 141,
     "metadata": {},
     "output_type": "execute_result"
    }
   ],
   "source": [
    "checkpoint_str['data']"
   ]
  },
  {
   "cell_type": "code",
   "execution_count": 142,
   "id": "43e52472-4848-4f30-8ebb-685a06892936",
   "metadata": {},
   "outputs": [],
   "source": [
    "loan_data = np.hstack((checkpoint_numeric['data'],checkpoint_str['data']))"
   ]
  },
  {
   "cell_type": "code",
   "execution_count": 143,
   "id": "c7bebe4a-ee2e-4df6-9bc0-10b70086635b",
   "metadata": {},
   "outputs": [
    {
     "data": {
      "text/plain": [
       "array([[48010226.  ,    35000.  ,    31933.3 , ...,       13.  ,        1.  ,        1.  ],\n",
       "       [57693261.  ,    30000.  ,    27132.46, ...,        5.  ,        1.  ,        4.  ],\n",
       "       [59432726.  ,    15000.  ,    13326.3 , ...,       10.  ,        1.  ,        4.  ],\n",
       "       ...,\n",
       "       [50415990.  ,    10000.  ,     8910.3 , ...,        5.  ,        1.  ,        1.  ],\n",
       "       [46154151.  ,    35000.  ,    31490.9 , ...,       17.  ,        1.  ,        3.  ],\n",
       "       [66055249.  ,    10000.  ,     9145.8 , ...,        4.  ,        0.  ,        3.  ]],\n",
       "      shape=(10000, 17))"
      ]
     },
     "execution_count": 143,
     "metadata": {},
     "output_type": "execute_result"
    }
   ],
   "source": [
    "loan_data"
   ]
  },
  {
   "cell_type": "code",
   "execution_count": 144,
   "id": "1a894ecb-a5cf-42a3-b517-d8b3888af950",
   "metadata": {},
   "outputs": [],
   "source": [
    "header_full = np.concatenate((checkpoint_numeric['header'],checkpoint_str['header']))"
   ]
  },
  {
   "cell_type": "code",
   "execution_count": 145,
   "id": "63ea200a-584e-4a68-b3de-610c015ce9ea",
   "metadata": {},
   "outputs": [
    {
     "data": {
      "text/plain": [
       "array(['id', 'loan_amnt_USD', 'loan_amnt_EUR', 'funded_amnt_USD', 'funded_amnt_EUR', 'int_rate',\n",
       "       'installment_USD', 'installment_EUR', 'total_pymnt_USD', 'total_pymnt_EUR', 'exchange_rate',\n",
       "       'issue_date', 'loan_status', 'term_months', 'sub_grade', 'verification_status',\n",
       "       'addr_state'], dtype='<U19')"
      ]
     },
     "execution_count": 145,
     "metadata": {},
     "output_type": "execute_result"
    }
   ],
   "source": [
    "header_full"
   ]
  },
  {
   "cell_type": "code",
   "execution_count": 146,
   "id": "fe9cb929-2582-462f-8fe3-9047c02a5e22",
   "metadata": {},
   "outputs": [],
   "source": [
    "loan_data = loan_data[np.argsort(loan_data[:,0])]"
   ]
  },
  {
   "cell_type": "code",
   "execution_count": 147,
   "id": "99cbd16a-5a41-4e75-9f10-b17908da348e",
   "metadata": {},
   "outputs": [
    {
     "data": {
      "text/plain": [
       "array([   0,    1,    2, ..., 9997, 9998, 9999], shape=(10000,))"
      ]
     },
     "execution_count": 147,
     "metadata": {},
     "output_type": "execute_result"
    }
   ],
   "source": [
    "np.argsort(loan_data[:,0])"
   ]
  },
  {
   "cell_type": "code",
   "execution_count": 148,
   "id": "028cb3c7-631f-479e-a86e-6c6e6da3e001",
   "metadata": {},
   "outputs": [],
   "source": [
    "loan_data_preprocessed = np.vstack((header_full,loan_data))"
   ]
  },
  {
   "cell_type": "code",
   "execution_count": 149,
   "id": "f88b2c18-6857-4d9c-a8b4-d77404cb6d8e",
   "metadata": {},
   "outputs": [],
   "source": [
    "np.savetxt(\"loan-data-preprocessed.csv\",\n",
    "          loan_data_preprocessed,\n",
    "          fmt = \"%s\",\n",
    "          delimiter = \",\")"
   ]
  },
  {
   "cell_type": "code",
   "execution_count": null,
   "id": "9cf3fc76-cafe-4f42-9cf7-ddace7f95b18",
   "metadata": {},
   "outputs": [],
   "source": []
  }
 ],
 "metadata": {
  "kernelspec": {
   "display_name": "base",
   "language": "python",
   "name": "python3"
  },
  "language_info": {
   "codemirror_mode": {
    "name": "ipython",
    "version": 3
   },
   "file_extension": ".py",
   "mimetype": "text/x-python",
   "name": "python",
   "nbconvert_exporter": "python",
   "pygments_lexer": "ipython3",
   "version": "3.13.5"
  }
 },
 "nbformat": 4,
 "nbformat_minor": 5
}
